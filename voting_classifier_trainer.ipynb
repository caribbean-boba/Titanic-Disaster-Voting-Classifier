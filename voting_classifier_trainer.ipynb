{
 "cells": [
  {
   "cell_type": "markdown",
   "metadata": {
    "_cell_guid": "dae835f1-2419-4519-bbc1-ff6188da5f25",
    "_uuid": "1d89129f6924a431fa188bea79fc33b98911721b"
   },
   "source": [
    "First, we use pandas to load datas"
   ]
  },
  {
   "cell_type": "code",
   "execution_count": 1,
   "metadata": {
    "_cell_guid": "cff2717e-457d-4e0a-8263-992e4c4e8eee",
    "_uuid": "4a8be342c70ce3f393d40b8bd1f78f48d3ab506d",
    "collapsed": true
   },
   "outputs": [],
   "source": [
    "import pandas as pd\n",
    "def fetch_data(route):\n",
    "    data = pd.read_csv(route)\n",
    "    return data"
   ]
  },
  {
   "cell_type": "code",
   "execution_count": 4,
   "metadata": {
    "_cell_guid": "f4c50705-fada-431b-acfa-b5e8c467801d",
    "_uuid": "1e73f207a769cec11729d6da983c033eef6c4aa1"
   },
   "outputs": [],
   "source": [
    "train = fetch_data(\"train.csv\")\n",
    "test = fetch_data(\"test.csv\")"
   ]
  },
  {
   "cell_type": "code",
   "execution_count": 5,
   "metadata": {
    "_cell_guid": "51fee961-57cb-455c-b37d-5855e3d34131",
    "_uuid": "7e2c2591d376b89e1bb6f4e033ee5d2fd267ec5c"
   },
   "outputs": [
    {
     "data": {
      "text/html": [
       "<div>\n",
       "<style>\n",
       "    .dataframe thead tr:only-child th {\n",
       "        text-align: right;\n",
       "    }\n",
       "\n",
       "    .dataframe thead th {\n",
       "        text-align: left;\n",
       "    }\n",
       "\n",
       "    .dataframe tbody tr th {\n",
       "        vertical-align: top;\n",
       "    }\n",
       "</style>\n",
       "<table border=\"1\" class=\"dataframe\">\n",
       "  <thead>\n",
       "    <tr style=\"text-align: right;\">\n",
       "      <th></th>\n",
       "      <th>PassengerId</th>\n",
       "      <th>Survived</th>\n",
       "      <th>Pclass</th>\n",
       "      <th>Age</th>\n",
       "      <th>SibSp</th>\n",
       "      <th>Parch</th>\n",
       "      <th>Fare</th>\n",
       "    </tr>\n",
       "  </thead>\n",
       "  <tbody>\n",
       "    <tr>\n",
       "      <th>count</th>\n",
       "      <td>891.000000</td>\n",
       "      <td>891.000000</td>\n",
       "      <td>891.000000</td>\n",
       "      <td>714.000000</td>\n",
       "      <td>891.000000</td>\n",
       "      <td>891.000000</td>\n",
       "      <td>891.000000</td>\n",
       "    </tr>\n",
       "    <tr>\n",
       "      <th>mean</th>\n",
       "      <td>446.000000</td>\n",
       "      <td>0.383838</td>\n",
       "      <td>2.308642</td>\n",
       "      <td>29.699118</td>\n",
       "      <td>0.523008</td>\n",
       "      <td>0.381594</td>\n",
       "      <td>32.204208</td>\n",
       "    </tr>\n",
       "    <tr>\n",
       "      <th>std</th>\n",
       "      <td>257.353842</td>\n",
       "      <td>0.486592</td>\n",
       "      <td>0.836071</td>\n",
       "      <td>14.526497</td>\n",
       "      <td>1.102743</td>\n",
       "      <td>0.806057</td>\n",
       "      <td>49.693429</td>\n",
       "    </tr>\n",
       "    <tr>\n",
       "      <th>min</th>\n",
       "      <td>1.000000</td>\n",
       "      <td>0.000000</td>\n",
       "      <td>1.000000</td>\n",
       "      <td>0.420000</td>\n",
       "      <td>0.000000</td>\n",
       "      <td>0.000000</td>\n",
       "      <td>0.000000</td>\n",
       "    </tr>\n",
       "    <tr>\n",
       "      <th>25%</th>\n",
       "      <td>223.500000</td>\n",
       "      <td>0.000000</td>\n",
       "      <td>2.000000</td>\n",
       "      <td>20.125000</td>\n",
       "      <td>0.000000</td>\n",
       "      <td>0.000000</td>\n",
       "      <td>7.910400</td>\n",
       "    </tr>\n",
       "    <tr>\n",
       "      <th>50%</th>\n",
       "      <td>446.000000</td>\n",
       "      <td>0.000000</td>\n",
       "      <td>3.000000</td>\n",
       "      <td>28.000000</td>\n",
       "      <td>0.000000</td>\n",
       "      <td>0.000000</td>\n",
       "      <td>14.454200</td>\n",
       "    </tr>\n",
       "    <tr>\n",
       "      <th>75%</th>\n",
       "      <td>668.500000</td>\n",
       "      <td>1.000000</td>\n",
       "      <td>3.000000</td>\n",
       "      <td>38.000000</td>\n",
       "      <td>1.000000</td>\n",
       "      <td>0.000000</td>\n",
       "      <td>31.000000</td>\n",
       "    </tr>\n",
       "    <tr>\n",
       "      <th>max</th>\n",
       "      <td>891.000000</td>\n",
       "      <td>1.000000</td>\n",
       "      <td>3.000000</td>\n",
       "      <td>80.000000</td>\n",
       "      <td>8.000000</td>\n",
       "      <td>6.000000</td>\n",
       "      <td>512.329200</td>\n",
       "    </tr>\n",
       "  </tbody>\n",
       "</table>\n",
       "</div>"
      ],
      "text/plain": [
       "       PassengerId    Survived      Pclass         Age       SibSp  \\\n",
       "count   891.000000  891.000000  891.000000  714.000000  891.000000   \n",
       "mean    446.000000    0.383838    2.308642   29.699118    0.523008   \n",
       "std     257.353842    0.486592    0.836071   14.526497    1.102743   \n",
       "min       1.000000    0.000000    1.000000    0.420000    0.000000   \n",
       "25%     223.500000    0.000000    2.000000   20.125000    0.000000   \n",
       "50%     446.000000    0.000000    3.000000   28.000000    0.000000   \n",
       "75%     668.500000    1.000000    3.000000   38.000000    1.000000   \n",
       "max     891.000000    1.000000    3.000000   80.000000    8.000000   \n",
       "\n",
       "            Parch        Fare  \n",
       "count  891.000000  891.000000  \n",
       "mean     0.381594   32.204208  \n",
       "std      0.806057   49.693429  \n",
       "min      0.000000    0.000000  \n",
       "25%      0.000000    7.910400  \n",
       "50%      0.000000   14.454200  \n",
       "75%      0.000000   31.000000  \n",
       "max      6.000000  512.329200  "
      ]
     },
     "execution_count": 5,
     "metadata": {},
     "output_type": "execute_result"
    }
   ],
   "source": [
    "train.describe()"
   ]
  },
  {
   "cell_type": "markdown",
   "metadata": {
    "_cell_guid": "a513ca93-c755-4fbb-a03c-e0dea65ad02e",
    "_uuid": "d1ac3c77e9dc3bdfa206425d166b0069088be2be"
   },
   "source": [
    "We can see that there is missing value in Age column. So we fill the empty column using its median."
   ]
  },
  {
   "cell_type": "code",
   "execution_count": 6,
   "metadata": {
    "_cell_guid": "f134a83e-51b9-4930-b96c-5f37463e56c4",
    "_uuid": "9834bdfae203bb330c03e24d3b4bdd511261387b",
    "collapsed": true
   },
   "outputs": [],
   "source": [
    "median_train = train[\"Age\"].median()\n",
    "train[\"Age\"] = train[\"Age\"].fillna(median_train)\n",
    "median_test = test[\"Age\"].median()\n",
    "test[\"Age\"]=test[\"Age\"].fillna(median_test)\n",
    "median_test_fare = test[\"Fare\"].median()\n",
    "test[\"Fare\"]=test[\"Fare\"].fillna(median_test)"
   ]
  },
  {
   "cell_type": "markdown",
   "metadata": {
    "_cell_guid": "a22b5db1-19e9-4704-a6c5-d467f0b0519b",
    "_uuid": "d6c156c15f1c0c479dfa9750b7a3a20cf2e93a56"
   },
   "source": [
    "There are four numeric features: Age, SibSp, Parch and Fare. Pclass is a categorical feature which is encoded as integer."
   ]
  },
  {
   "cell_type": "code",
   "execution_count": 7,
   "metadata": {
    "_cell_guid": "f62ca9fa-a0cb-4b67-804b-408af953c9d9",
    "_uuid": "bb811049f18fa073839cdd9001bd6064132f9077",
    "collapsed": true
   },
   "outputs": [],
   "source": [
    "data_numeric = [\"Age\", \"SibSp\", \"Parch\", \"Fare\"]"
   ]
  },
  {
   "cell_type": "markdown",
   "metadata": {
    "_cell_guid": "10956761-c589-4ada-a626-945d749885e3",
    "_uuid": "e04ae1ca974d6bf79fa2e9e8d19085200745251b"
   },
   "source": [
    "Draw the histograms of these four numeric feature to get an intuitive sense."
   ]
  },
  {
   "cell_type": "code",
   "execution_count": 8,
   "metadata": {
    "_cell_guid": "3ec15781-2ab2-479f-829e-ad6259f93c40",
    "_uuid": "1b3a9c6a5f259716093e710dad2a7d0d75f6c3bf",
    "scrolled": true
   },
   "outputs": [
    {
     "data": {
      "image/png": "[encoded data removed]",
      "text/plain": [
       "<matplotlib.figure.Figure at 0x10abab2b0>"
      ]
     },
     "metadata": {},
     "output_type": "display_data"
    }
   ],
   "source": [
    "%matplotlib inline\n",
    "import matplotlib.pyplot as plt\n",
    "train[data_numeric].hist(bins=50, figsize=(20,15))\n",
    "plt.show()"
   ]
  },
  {
   "cell_type": "markdown",
   "metadata": {
    "_cell_guid": "279ac193-82c6-456a-95e5-5f5ba387d276",
    "_uuid": "dcc8d167ae99f0f4f41bccbfd46357ae7fd374d5"
   },
   "source": [
    "I decided to split Age into 10 groups and Fare into 10 groups to make bar charts grouped by if survived or not to see if there is relationship between them"
   ]
  },
  {
   "cell_type": "code",
   "execution_count": 9,
   "metadata": {
    "_cell_guid": "4b9a34ae-5b64-4d79-b611-1b5370591700",
    "_uuid": "b4ce5947a3403c77c6ba957acf3f03ca79cd7e00",
    "collapsed": true
   },
   "outputs": [],
   "source": [
    "import numpy as np\n",
    "def age_process(age):\n",
    "    return np.ceil(age/8)"
   ]
  },
  {
   "cell_type": "code",
   "execution_count": 10,
   "metadata": {
    "_cell_guid": "4c956ffb-d8a6-4fbe-9986-0105b4a6d148",
    "_uuid": "590c3243d45fe7ca0bc0ce4496508f3095cbc8fc",
    "collapsed": true
   },
   "outputs": [],
   "source": [
    "train[\"Age\"]=train[\"Age\"].apply(age_process)\n",
    "test[\"Age\"]=test[\"Age\"].apply(age_process)"
   ]
  },
  {
   "cell_type": "code",
   "execution_count": 11,
   "metadata": {
    "_cell_guid": "8a3e317c-4bd9-4a2e-867e-9579c5bbd344",
    "_uuid": "8dfdd86d26a6b7d5242630c000e32a3349d6852a"
   },
   "outputs": [
    {
     "data": {
      "text/plain": [
       "<matplotlib.axes._subplots.AxesSubplot at 0x10d055ac8>"
      ]
     },
     "execution_count": 11,
     "metadata": {},
     "output_type": "execute_result"
    },
    {
     "data": {
      "image/png": "[encoded data removed]",
      "text/plain": [
       "<matplotlib.figure.Figure at 0x10dd3e748>"
      ]
     },
     "metadata": {},
     "output_type": "display_data"
    }
   ],
   "source": [
    "crosstab = pd.crosstab(train[\"Age\"],train[\"Survived\"])\n",
    "crosstab_age_by_survive = crosstab.astype('float').div(crosstab.sum(axis=1), axis=0)\n",
    "crosstab_age_by_survive.plot(kind = \"bar\")"
   ]
  },
  {
   "cell_type": "markdown",
   "metadata": {
    "_cell_guid": "9486a00a-9700-4638-81b7-d496e0c5cab7",
    "_uuid": "6323e17417f16379208c9328984d8ec1edfc8139"
   },
   "source": [
    "Then we split fare into categories"
   ]
  },
  {
   "cell_type": "code",
   "execution_count": 12,
   "metadata": {
    "_cell_guid": "0a29bfd0-279f-402b-baf3-bc720eab8726",
    "_uuid": "217f2cd152de5638390b95528bb472613099e851",
    "collapsed": true
   },
   "outputs": [],
   "source": [
    "def fare_process(fare):\n",
    "    return np.ceil(fare/20)"
   ]
  },
  {
   "cell_type": "code",
   "execution_count": 13,
   "metadata": {
    "_cell_guid": "b1c8772d-1c4b-4ea6-8f07-f2b940f4eee1",
    "_uuid": "2d4d1c5c5fddf4f9f741c1561949d725fde2ff09",
    "collapsed": true
   },
   "outputs": [],
   "source": [
    "train[\"Fare\"] = train[\"Fare\"].apply(fare_process)\n",
    "test[\"Fare\"] = test[\"Fare\"].apply(fare_process)"
   ]
  },
  {
   "cell_type": "code",
   "execution_count": 14,
   "metadata": {
    "_cell_guid": "19599c22-d6af-49cf-bc82-1224818724c4",
    "_uuid": "d37d30c60db6c89fee9c863c0e963a94dd7d47f1"
   },
   "outputs": [
    {
     "data": {
      "text/plain": [
       "<matplotlib.axes._subplots.AxesSubplot at 0x10ececfd0>"
      ]
     },
     "execution_count": 14,
     "metadata": {},
     "output_type": "execute_result"
    },
    {
     "data": {
      "image/png": "[encoded data removed]",
      "text/plain": [
       "<matplotlib.figure.Figure at 0x10ec92da0>"
      ]
     },
     "metadata": {},
     "output_type": "display_data"
    }
   ],
   "source": [
    "crosstab_fare = pd.crosstab(train[\"Fare\"],train[\"Survived\"])\n",
    "crosstab_fare_by_survive = crosstab_fare.astype('float').div(crosstab_fare.sum(axis=1), axis=0)\n",
    "crosstab_fare_by_survive\n",
    "crosstab_fare_by_survive.plot(kind = \"bar\")"
   ]
  },
  {
   "cell_type": "code",
   "execution_count": 15,
   "metadata": {
    "_cell_guid": "5f80e836-508f-4ba7-b963-3f0524f8c15c",
    "_uuid": "77a7a62b85003a9738ffc5c392c3bec8c15fedc0"
   },
   "outputs": [
    {
     "data": {
      "text/plain": [
       "<matplotlib.axes._subplots.AxesSubplot at 0x10ee59048>"
      ]
     },
     "execution_count": 15,
     "metadata": {},
     "output_type": "execute_result"
    },
    {
     "data": {
      "image/png": "[encoded data removed]",
      "text/plain": [
       "<matplotlib.figure.Figure at 0x10ee658d0>"
      ]
     },
     "metadata": {},
     "output_type": "display_data"
    }
   ],
   "source": [
    "crosstab_parch = pd.crosstab(train[\"Parch\"],train[\"Survived\"])\n",
    "crosstab_parch_by_survive = crosstab_parch.astype('float').div(crosstab_parch.sum(axis=1), axis=0)\n",
    "crosstab_parch_by_survive.plot(kind = \"bar\")"
   ]
  },
  {
   "cell_type": "code",
   "execution_count": 16,
   "metadata": {
    "_cell_guid": "b1188b1c-b13a-4c79-96a9-65351287ab41",
    "_uuid": "d436f2333c012e9a9ef5f558af729f859232abdb"
   },
   "outputs": [
    {
     "data": {
      "text/plain": [
       "<matplotlib.axes._subplots.AxesSubplot at 0x10efa2dd8>"
      ]
     },
     "execution_count": 16,
     "metadata": {},
     "output_type": "execute_result"
    },
    {
     "data": {
      "image/png": "[encoded data removed]",
      "text/plain": [
       "<matplotlib.figure.Figure at 0x10efd71d0>"
      ]
     },
     "metadata": {},
     "output_type": "display_data"
    }
   ],
   "source": [
    "crosstab_sibSp = pd.crosstab(train[\"SibSp\"],train[\"Survived\"])\n",
    "crosstab_sibSp_by_survive = crosstab_sibSp.astype('float').div(crosstab_sibSp.sum(axis=1), axis=0)\n",
    "crosstab_sibSp_by_survive.plot(kind = \"bar\")"
   ]
  },
  {
   "cell_type": "code",
   "execution_count": 17,
   "metadata": {
    "_cell_guid": "8bc10f2a-c6b5-4f72-b57e-66b82d251722",
    "_uuid": "7ff047c66f76d4fee8bac3c8df06338e83dff3aa",
    "collapsed": true
   },
   "outputs": [],
   "source": [
    "def family_process(sib, parch):\n",
    "    return np.ceil(sib+parch)"
   ]
  },
  {
   "cell_type": "code",
   "execution_count": 18,
   "metadata": {
    "_cell_guid": "8122db01-7ff6-4762-8c48-209a77f47fe9",
    "_uuid": "ff7e0149a3d38dd171b53d95a2ba7965522687f6",
    "collapsed": true
   },
   "outputs": [],
   "source": [
    "train[\"family\"] = list(map(family_process,train[\"SibSp\"],train[\"Parch\"]))\n",
    "test[\"family\"] = list(map(family_process,test[\"SibSp\"],test[\"Parch\"]))"
   ]
  },
  {
   "cell_type": "code",
   "execution_count": 19,
   "metadata": {
    "_cell_guid": "fac49cd2-6652-43ca-ae33-057b950ee41b",
    "_uuid": "01604ab9931a7eb8ba672181b47f695e050b9537"
   },
   "outputs": [
    {
     "data": {
      "text/plain": [
       "<matplotlib.axes._subplots.AxesSubplot at 0x10ee8c940>"
      ]
     },
     "execution_count": 19,
     "metadata": {},
     "output_type": "execute_result"
    },
    {
     "data": {
      "image/png": "[encoded data removed]",
      "text/plain": [
       "<matplotlib.figure.Figure at 0x10f0b6a20>"
      ]
     },
     "metadata": {},
     "output_type": "display_data"
    }
   ],
   "source": [
    "crosstab_fam = pd.crosstab(train[\"family\"],train[\"Survived\"])\n",
    "crosstab_fam_by_survive =crosstab_fam.astype('float').div(crosstab_fam.sum(axis=1), axis=0)\n",
    "crosstab_fam_by_survive.plot(kind = \"bar\")"
   ]
  },
  {
   "cell_type": "code",
   "execution_count": 20,
   "metadata": {
    "_cell_guid": "1194a447-b8af-4422-b57f-655c14824139",
    "_uuid": "8d0cf8b7a73c6b817569388e39da89f9b3899808"
   },
   "outputs": [
    {
     "data": {
      "text/plain": [
       "<matplotlib.axes._subplots.AxesSubplot at 0x10f0b60f0>"
      ]
     },
     "execution_count": 20,
     "metadata": {},
     "output_type": "execute_result"
    },
    {
     "data": {
      "image/png": "[encoded data removed]",
      "text/plain": [
       "<matplotlib.figure.Figure at 0x10dcacb38>"
      ]
     },
     "metadata": {},
     "output_type": "display_data"
    }
   ],
   "source": [
    "crosstab_sex = pd.crosstab(train[\"Sex\"],train[\"Survived\"])\n",
    "crosstab_sex_by_survive =crosstab_sex.astype('float').div(crosstab_sex.sum(axis=1), axis=0)\n",
    "crosstab_sex_by_survive.plot(kind = \"bar\")"
   ]
  },
  {
   "cell_type": "code",
   "execution_count": 21,
   "metadata": {
    "_cell_guid": "1ecd42d8-9f98-45a3-b3a8-ca3f7ebcf4b0",
    "_uuid": "18ec53cfdc65d63ee8bf9367503134ffc810cc07"
   },
   "outputs": [
    {
     "data": {
      "text/plain": [
       "<matplotlib.axes._subplots.AxesSubplot at 0x10dcfa128>"
      ]
     },
     "execution_count": 21,
     "metadata": {},
     "output_type": "execute_result"
    },
    {
     "data": {
      "image/png": "[encoded data removed]",
      "text/plain": [
       "<matplotlib.figure.Figure at 0x10ed8d5c0>"
      ]
     },
     "metadata": {},
     "output_type": "display_data"
    }
   ],
   "source": [
    "crosstab_embark = pd.crosstab(train[\"Embarked\"],train[\"Survived\"])\n",
    "crosstab_embark_by_survive =crosstab_embark.astype('float').div(crosstab_embark.sum(axis=1), axis=0)\n",
    "crosstab_embark_by_survive.plot(kind = \"bar\")"
   ]
  },
  {
   "cell_type": "code",
   "execution_count": 22,
   "metadata": {
    "_cell_guid": "52ace55f-0f4a-452b-8f82-5631a31b6c36",
    "_uuid": "17886cfa546877a92b695fbd992b99500acb3e57"
   },
   "outputs": [
    {
     "data": {
      "text/plain": [
       "<matplotlib.axes._subplots.AxesSubplot at 0x10dfc0f98>"
      ]
     },
     "execution_count": 22,
     "metadata": {},
     "output_type": "execute_result"
    },
    {
     "data": {
      "image/png": "[encoded data removed]",
      "text/plain": [
       "<matplotlib.figure.Figure at 0x10f08dc50>"
      ]
     },
     "metadata": {},
     "output_type": "display_data"
    }
   ],
   "source": [
    "crosstab_pclass = pd.crosstab(train[\"Pclass\"],train[\"Survived\"])\n",
    "crosstab_pclass_by_survive =crosstab_pclass.astype('float').div(crosstab_pclass.sum(axis=1), axis=0)\n",
    "crosstab_pclass_by_survive.plot(kind = \"bar\")"
   ]
  },
  {
   "cell_type": "code",
   "execution_count": 24,
   "metadata": {
    "_cell_guid": "6f4b7495-a488-4009-9fdf-cf961f35bce1",
    "_uuid": "e313cf54cc87e01f4fa28ba2448934274e300e17",
    "collapsed": true
   },
   "outputs": [],
   "source": [
    "def title_process(name):\n",
    "    namelist = name.split(',')\n",
    "    title = namelist[1].split(' ')\n",
    "    return title[1]    "
   ]
  },
  {
   "cell_type": "code",
   "execution_count": 25,
   "metadata": {
    "_cell_guid": "c112d15b-b290-4768-9fc7-dae04d125941",
    "_uuid": "203eb0c39b30261e8a6cbc9190f5b2bceccc0069",
    "collapsed": true
   },
   "outputs": [],
   "source": [
    "train[\"title\"] = train[\"Name\"].apply(title_process)\n",
    "test[\"title\"] = test[\"Name\"].apply(title_process)"
   ]
  },
  {
   "cell_type": "code",
   "execution_count": 26,
   "metadata": {
    "_cell_guid": "4941cf5f-3adb-4cf1-a534-d630fcec4721",
    "_uuid": "097ab366a12600ae36395dd76156851d53961354"
   },
   "outputs": [
    {
     "data": {
      "text/html": [
       "<div>\n",
       "<style>\n",
       "    .dataframe thead tr:only-child th {\n",
       "        text-align: right;\n",
       "    }\n",
       "\n",
       "    .dataframe thead th {\n",
       "        text-align: left;\n",
       "    }\n",
       "\n",
       "    .dataframe tbody tr th {\n",
       "        vertical-align: top;\n",
       "    }\n",
       "</style>\n",
       "<table border=\"1\" class=\"dataframe\">\n",
       "  <thead>\n",
       "    <tr style=\"text-align: right;\">\n",
       "      <th>Sex</th>\n",
       "      <th>female</th>\n",
       "      <th>male</th>\n",
       "    </tr>\n",
       "    <tr>\n",
       "      <th>title</th>\n",
       "      <th></th>\n",
       "      <th></th>\n",
       "    </tr>\n",
       "  </thead>\n",
       "  <tbody>\n",
       "    <tr>\n",
       "      <th>Capt.</th>\n",
       "      <td>0</td>\n",
       "      <td>1</td>\n",
       "    </tr>\n",
       "    <tr>\n",
       "      <th>Col.</th>\n",
       "      <td>0</td>\n",
       "      <td>2</td>\n",
       "    </tr>\n",
       "    <tr>\n",
       "      <th>Don.</th>\n",
       "      <td>0</td>\n",
       "      <td>1</td>\n",
       "    </tr>\n",
       "    <tr>\n",
       "      <th>Dr.</th>\n",
       "      <td>1</td>\n",
       "      <td>6</td>\n",
       "    </tr>\n",
       "    <tr>\n",
       "      <th>Jonkheer.</th>\n",
       "      <td>0</td>\n",
       "      <td>1</td>\n",
       "    </tr>\n",
       "    <tr>\n",
       "      <th>Lady.</th>\n",
       "      <td>1</td>\n",
       "      <td>0</td>\n",
       "    </tr>\n",
       "    <tr>\n",
       "      <th>Major.</th>\n",
       "      <td>0</td>\n",
       "      <td>2</td>\n",
       "    </tr>\n",
       "    <tr>\n",
       "      <th>Master.</th>\n",
       "      <td>0</td>\n",
       "      <td>40</td>\n",
       "    </tr>\n",
       "    <tr>\n",
       "      <th>Miss.</th>\n",
       "      <td>182</td>\n",
       "      <td>0</td>\n",
       "    </tr>\n",
       "    <tr>\n",
       "      <th>Mlle.</th>\n",
       "      <td>2</td>\n",
       "      <td>0</td>\n",
       "    </tr>\n",
       "    <tr>\n",
       "      <th>Mme.</th>\n",
       "      <td>1</td>\n",
       "      <td>0</td>\n",
       "    </tr>\n",
       "    <tr>\n",
       "      <th>Mr.</th>\n",
       "      <td>0</td>\n",
       "      <td>517</td>\n",
       "    </tr>\n",
       "    <tr>\n",
       "      <th>Mrs.</th>\n",
       "      <td>125</td>\n",
       "      <td>0</td>\n",
       "    </tr>\n",
       "    <tr>\n",
       "      <th>Ms.</th>\n",
       "      <td>1</td>\n",
       "      <td>0</td>\n",
       "    </tr>\n",
       "    <tr>\n",
       "      <th>Rev.</th>\n",
       "      <td>0</td>\n",
       "      <td>6</td>\n",
       "    </tr>\n",
       "    <tr>\n",
       "      <th>Sir.</th>\n",
       "      <td>0</td>\n",
       "      <td>1</td>\n",
       "    </tr>\n",
       "    <tr>\n",
       "      <th>the</th>\n",
       "      <td>1</td>\n",
       "      <td>0</td>\n",
       "    </tr>\n",
       "  </tbody>\n",
       "</table>\n",
       "</div>"
      ],
      "text/plain": [
       "Sex        female  male\n",
       "title                  \n",
       "Capt.           0     1\n",
       "Col.            0     2\n",
       "Don.            0     1\n",
       "Dr.             1     6\n",
       "Jonkheer.       0     1\n",
       "Lady.           1     0\n",
       "Major.          0     2\n",
       "Master.         0    40\n",
       "Miss.         182     0\n",
       "Mlle.           2     0\n",
       "Mme.            1     0\n",
       "Mr.             0   517\n",
       "Mrs.          125     0\n",
       "Ms.             1     0\n",
       "Rev.            0     6\n",
       "Sir.            0     1\n",
       "the             1     0"
      ]
     },
     "execution_count": 26,
     "metadata": {},
     "output_type": "execute_result"
    }
   ],
   "source": [
    "pd.crosstab(train['title'], train['Sex'])"
   ]
  },
  {
   "cell_type": "code",
   "execution_count": 27,
   "metadata": {
    "_cell_guid": "1078c195-f97c-43d6-856b-98a3df45ffc3",
    "_uuid": "33c965a53eebff44ad2d9995134516c78cecb9b3",
    "collapsed": true
   },
   "outputs": [],
   "source": [
    "def title_reduce(title):\n",
    "    if (title == \"Miss.\" or title == \"Mrs.\" or title == \"Master.\" \n",
    "        or title == \"Mr.\"):\n",
    "        return title\n",
    "    else:\n",
    "        return \"Other\""
   ]
  },
  {
   "cell_type": "code",
   "execution_count": 28,
   "metadata": {
    "_cell_guid": "cd1a8819-10a3-474e-8c07-6fed05f98ef2",
    "_uuid": "dc0ee3a13f838f08b9fe71aabd3a00d19082902f",
    "collapsed": true
   },
   "outputs": [],
   "source": [
    "train[\"title\"] = train[\"title\"].apply(title_reduce)\n",
    "test[\"title\"] = test[\"title\"].apply(title_reduce)"
   ]
  },
  {
   "cell_type": "code",
   "execution_count": 29,
   "metadata": {
    "_cell_guid": "7c6ff598-ddb4-462b-8692-35063eeb2f46",
    "_uuid": "c9ea151d4b178efacb2489fa0ce2a353d0eada43",
    "scrolled": true
   },
   "outputs": [
    {
     "data": {
      "text/plain": [
       "<matplotlib.axes._subplots.AxesSubplot at 0x10dd2af98>"
      ]
     },
     "execution_count": 29,
     "metadata": {},
     "output_type": "execute_result"
    },
    {
     "data": {
      "image/png": "[encoded data removed]",
      "text/plain": [
       "<matplotlib.figure.Figure at 0x10e7e3518>"
      ]
     },
     "metadata": {},
     "output_type": "display_data"
    }
   ],
   "source": [
    "crosstab_title = pd.crosstab(train[\"title\"],train[\"Survived\"])\n",
    "crosstab_title_by_survive =crosstab_title.astype('float').div(crosstab_title.sum(axis=1), axis=0)\n",
    "crosstab_title_by_survive.plot(kind = \"bar\")"
   ]
  },
  {
   "cell_type": "code",
   "execution_count": 30,
   "metadata": {
    "_cell_guid": "0643e9d0-7dba-4f43-bbf4-1fbefaca6b32",
    "_uuid": "ba809aa9a105289e63202f3367d4f900d3b6c040",
    "collapsed": true
   },
   "outputs": [],
   "source": [
    "train_prepare = train.drop([\"PassengerId\",\"Name\",\"SibSp\",\"Parch\",\"Ticket\",\"Cabin\",\"Embarked\"],axis=1)\n",
    "test_prepare = test.drop([\"PassengerId\",\"Name\",\"SibSp\",\"Parch\",\"Ticket\",\"Cabin\",\"Embarked\"],axis=1)\n",
    "train_prepare = pd.get_dummies(train_prepare, columns=[\"Sex\",\"Pclass\", \"title\"])\n",
    "test_prepare = pd.get_dummies(test_prepare, columns=[\"Sex\",\"Pclass\", \"title\"])\n"
   ]
  },
  {
   "cell_type": "code",
   "execution_count": 31,
   "metadata": {
    "_cell_guid": "26640d63-b49c-406a-83b3-d6b61d380f0b",
    "_uuid": "208f313901206294e18f52424234183277ff7af3"
   },
   "outputs": [
    {
     "data": {
      "text/html": [
       "<div>\n",
       "<style>\n",
       "    .dataframe thead tr:only-child th {\n",
       "        text-align: right;\n",
       "    }\n",
       "\n",
       "    .dataframe thead th {\n",
       "        text-align: left;\n",
       "    }\n",
       "\n",
       "    .dataframe tbody tr th {\n",
       "        vertical-align: top;\n",
       "    }\n",
       "</style>\n",
       "<table border=\"1\" class=\"dataframe\">\n",
       "  <thead>\n",
       "    <tr style=\"text-align: right;\">\n",
       "      <th></th>\n",
       "      <th>Survived</th>\n",
       "      <th>Age</th>\n",
       "      <th>Fare</th>\n",
       "      <th>family</th>\n",
       "      <th>Sex_female</th>\n",
       "      <th>Sex_male</th>\n",
       "      <th>Pclass_1</th>\n",
       "      <th>Pclass_2</th>\n",
       "      <th>Pclass_3</th>\n",
       "      <th>title_Master.</th>\n",
       "      <th>title_Miss.</th>\n",
       "      <th>title_Mr.</th>\n",
       "      <th>title_Mrs.</th>\n",
       "      <th>title_Other</th>\n",
       "    </tr>\n",
       "  </thead>\n",
       "  <tbody>\n",
       "    <tr>\n",
       "      <th>0</th>\n",
       "      <td>0</td>\n",
       "      <td>3.0</td>\n",
       "      <td>1.0</td>\n",
       "      <td>1.0</td>\n",
       "      <td>0</td>\n",
       "      <td>1</td>\n",
       "      <td>0</td>\n",
       "      <td>0</td>\n",
       "      <td>1</td>\n",
       "      <td>0</td>\n",
       "      <td>0</td>\n",
       "      <td>1</td>\n",
       "      <td>0</td>\n",
       "      <td>0</td>\n",
       "    </tr>\n",
       "    <tr>\n",
       "      <th>1</th>\n",
       "      <td>1</td>\n",
       "      <td>5.0</td>\n",
       "      <td>4.0</td>\n",
       "      <td>1.0</td>\n",
       "      <td>1</td>\n",
       "      <td>0</td>\n",
       "      <td>1</td>\n",
       "      <td>0</td>\n",
       "      <td>0</td>\n",
       "      <td>0</td>\n",
       "      <td>0</td>\n",
       "      <td>0</td>\n",
       "      <td>1</td>\n",
       "      <td>0</td>\n",
       "    </tr>\n",
       "    <tr>\n",
       "      <th>2</th>\n",
       "      <td>1</td>\n",
       "      <td>4.0</td>\n",
       "      <td>1.0</td>\n",
       "      <td>0.0</td>\n",
       "      <td>1</td>\n",
       "      <td>0</td>\n",
       "      <td>0</td>\n",
       "      <td>0</td>\n",
       "      <td>1</td>\n",
       "      <td>0</td>\n",
       "      <td>1</td>\n",
       "      <td>0</td>\n",
       "      <td>0</td>\n",
       "      <td>0</td>\n",
       "    </tr>\n",
       "    <tr>\n",
       "      <th>3</th>\n",
       "      <td>1</td>\n",
       "      <td>5.0</td>\n",
       "      <td>3.0</td>\n",
       "      <td>1.0</td>\n",
       "      <td>1</td>\n",
       "      <td>0</td>\n",
       "      <td>1</td>\n",
       "      <td>0</td>\n",
       "      <td>0</td>\n",
       "      <td>0</td>\n",
       "      <td>0</td>\n",
       "      <td>0</td>\n",
       "      <td>1</td>\n",
       "      <td>0</td>\n",
       "    </tr>\n",
       "    <tr>\n",
       "      <th>4</th>\n",
       "      <td>0</td>\n",
       "      <td>5.0</td>\n",
       "      <td>1.0</td>\n",
       "      <td>0.0</td>\n",
       "      <td>0</td>\n",
       "      <td>1</td>\n",
       "      <td>0</td>\n",
       "      <td>0</td>\n",
       "      <td>1</td>\n",
       "      <td>0</td>\n",
       "      <td>0</td>\n",
       "      <td>1</td>\n",
       "      <td>0</td>\n",
       "      <td>0</td>\n",
       "    </tr>\n",
       "  </tbody>\n",
       "</table>\n",
       "</div>"
      ],
      "text/plain": [
       "   Survived  Age  Fare  family  Sex_female  Sex_male  Pclass_1  Pclass_2  \\\n",
       "0         0  3.0   1.0     1.0           0         1         0         0   \n",
       "1         1  5.0   4.0     1.0           1         0         1         0   \n",
       "2         1  4.0   1.0     0.0           1         0         0         0   \n",
       "3         1  5.0   3.0     1.0           1         0         1         0   \n",
       "4         0  5.0   1.0     0.0           0         1         0         0   \n",
       "\n",
       "   Pclass_3  title_Master.  title_Miss.  title_Mr.  title_Mrs.  title_Other  \n",
       "0         1              0            0          1           0            0  \n",
       "1         0              0            0          0           1            0  \n",
       "2         1              0            1          0           0            0  \n",
       "3         0              0            0          0           1            0  \n",
       "4         1              0            0          1           0            0  "
      ]
     },
     "execution_count": 31,
     "metadata": {},
     "output_type": "execute_result"
    }
   ],
   "source": [
    "train_prepare.head()"
   ]
  },
  {
   "cell_type": "code",
   "execution_count": 33,
   "metadata": {
    "_cell_guid": "d428f393-bbe5-47fc-aada-7c839a8f6975",
    "_uuid": "07295258b1a0c7cf52f4f6d55a642bdcd768530b"
   },
   "outputs": [],
   "source": [
    "from sklearn.model_selection import train_test_split\n",
    "train_set, test_set = train_test_split(train_prepare, test_size=0.2, random_state=42)\n",
    "X_train = train_set.drop(\"Survived\",axis=1)\n",
    "y_train = train_set[\"Survived\"]\n",
    "X_test = test_set.drop(\"Survived\",axis=1)\n",
    "y_test = test_set[\"Survived\"]"
   ]
  },
  {
   "cell_type": "code",
   "execution_count": 35,
   "metadata": {
    "_cell_guid": "aff0735a-47e7-4448-bba0-ab024c6336e5",
    "_uuid": "18d2d01a02d49eaaad93233751ff3d8f005f6778"
   },
   "outputs": [
    {
     "name": "stderr",
     "output_type": "stream",
     "text": [
      "/usr/local/Cellar/python3/3.6.2/Frameworks/Python.framework/Versions/3.6/lib/python3.6/site-packages/sklearn/linear_model/stochastic_gradient.py:73: DeprecationWarning: n_iter parameter is deprecated in 0.19 and will be removed in 0.21. Use max_iter and tol instead.\n",
      "  DeprecationWarning)\n"
     ]
    },
    {
     "data": {
      "text/plain": [
       "0.81148970398970399"
      ]
     },
     "execution_count": 35,
     "metadata": {},
     "output_type": "execute_result"
    }
   ],
   "source": [
    "from sklearn.linear_model import SGDClassifier\n",
    "from sklearn.model_selection import cross_val_score\n",
    "sgd_clf = SGDClassifier(n_iter=750, penalty=None, eta0=0.1) \n",
    "sgd_clf.fit(X_train, y_train)\n",
    "score = cross_val_score(sgd_clf, X_train, y_train, cv=20, scoring=\"accuracy\")\n",
    "score.mean()"
   ]
  },
  {
   "cell_type": "code",
   "execution_count": 36,
   "metadata": {
    "_cell_guid": "b97fb932-86b5-4467-870c-363964d42e53",
    "_uuid": "d54f857b976c0779e5823bd4fba507299eabf650"
   },
   "outputs": [
    {
     "data": {
      "text/plain": [
       "0.81562097812097822"
      ]
     },
     "execution_count": 36,
     "metadata": {},
     "output_type": "execute_result"
    }
   ],
   "source": [
    "from sklearn.tree import DecisionTreeClassifier\n",
    "dtc_clf = DecisionTreeClassifier(random_state=42)\n",
    "dtc_clf.fit(X_train,y_train)\n",
    "score = cross_val_score(dtc_clf, X_train, y_train, cv=20, scoring=\"accuracy\")\n",
    "score.mean()"
   ]
  },
  {
   "cell_type": "code",
   "execution_count": 37,
   "metadata": {
    "_cell_guid": "244b2f01-d94f-4ea9-b14a-9be0bcec7781",
    "_uuid": "02dd3694cc349198f67c9678bede4ac972d3e7f9"
   },
   "outputs": [
    {
     "data": {
      "text/plain": [
       "0.81589232089232089"
      ]
     },
     "execution_count": 37,
     "metadata": {},
     "output_type": "execute_result"
    }
   ],
   "source": [
    "from sklearn.neighbors import KNeighborsClassifier\n",
    "\n",
    "knn_clf = KNeighborsClassifier(n_neighbors=10)\n",
    "knn_clf.fit(X_train,y_train)\n",
    "score = cross_val_score(knn_clf, X_train, y_train, cv=20, scoring=\"accuracy\")\n",
    "score.mean()"
   ]
  },
  {
   "cell_type": "code",
   "execution_count": 38,
   "metadata": {
    "_cell_guid": "0307c1e5-6b82-4f66-a919-d54c16f33fc8",
    "_uuid": "22c496b2a713aeadecd0920ee01e532cd60dd615"
   },
   "outputs": [
    {
     "data": {
      "text/plain": [
       "{'n_neighbors': 3}"
      ]
     },
     "execution_count": 38,
     "metadata": {},
     "output_type": "execute_result"
    }
   ],
   "source": [
    "from sklearn.model_selection import GridSearchCV\n",
    "param_grid = [\n",
    "        {'n_neighbors': [3,10,30]}\n",
    "]\n",
    "\n",
    "grid_search = GridSearchCV(knn_clf, param_grid, cv=5,\n",
    "                               scoring='neg_mean_squared_error')\n",
    "grid_search.fit(X_train, y_train)\n",
    "grid_search.best_params_"
   ]
  },
  {
   "cell_type": "code",
   "execution_count": 39,
   "metadata": {
    "_cell_guid": "9c1db8c0-9b4e-4ec5-9ed1-b7131460d470",
    "_uuid": "e0a910d473edd2345c03cb56943af702307ed197"
   },
   "outputs": [
    {
     "data": {
      "text/plain": [
       "0.82697232947232957"
      ]
     },
     "execution_count": 39,
     "metadata": {},
     "output_type": "execute_result"
    }
   ],
   "source": [
    "from sklearn.ensemble import RandomForestClassifier\n",
    "rf_clf = RandomForestClassifier(n_estimators=100,\n",
    "                             criterion='entropy',\n",
    "                             max_depth=5,\n",
    "                             min_samples_split=10,\n",
    "                             min_samples_leaf=5,\n",
    "                             random_state=0)\n",
    "rf_clf.fit(X_train,y_train)\n",
    "score = cross_val_score(rf_clf, X_train, y_train, cv=20, scoring=\"accuracy\")\n",
    "score.mean()"
   ]
  },
  {
   "cell_type": "code",
   "execution_count": 40,
   "metadata": {
    "_cell_guid": "42145df3-dbe4-44bf-ae4b-38732ed6bb82",
    "_uuid": "e6044d0ab1ac1380ac880e4ae71f96a921143cf4"
   },
   "outputs": [
    {
     "data": {
      "text/plain": [
       "{'max_features': 6, 'max_leaf_nodes': 16, 'n_estimators': 10}"
      ]
     },
     "execution_count": 40,
     "metadata": {},
     "output_type": "execute_result"
    }
   ],
   "source": [
    "from sklearn.model_selection import GridSearchCV\n",
    "param_grid = [\n",
    "        {'n_estimators': [1,10,100], 'max_leaf_nodes': [16,32,64,128], 'max_features': [2, 4, 6, 8]}\n",
    "]\n",
    "\n",
    "grid_search = GridSearchCV(rf_clf, param_grid, cv=5,\n",
    "                               scoring='neg_mean_squared_error')\n",
    "grid_search.fit(X_train, y_train)\n",
    "grid_search.best_params_"
   ]
  },
  {
   "cell_type": "code",
   "execution_count": 41,
   "metadata": {
    "_cell_guid": "a3737753-b392-4bea-9a41-5dd552b0d1a7",
    "_uuid": "c01d577cb36ab7c7a474ece0c882fb15dcc35053"
   },
   "outputs": [
    {
     "data": {
      "text/plain": [
       "0.82002359502359512"
      ]
     },
     "execution_count": 41,
     "metadata": {},
     "output_type": "execute_result"
    }
   ],
   "source": [
    "rf_clf = RandomForestClassifier(n_estimators =10, max_leaf_nodes = 32,max_features = 2)\n",
    "rf_clf.fit(X_train,y_train)\n",
    "score = cross_val_score(rf_clf, X_train, y_train, cv=20, scoring=\"accuracy\")\n",
    "score.mean()"
   ]
  },
  {
   "cell_type": "code",
   "execution_count": 46,
   "metadata": {
    "_cell_guid": "b1356c17-5fe6-4947-be49-b8a00e25351a",
    "_uuid": "08cf6ab1e8158dd3318493a3deeaa96c631548b0"
   },
   "outputs": [
    {
     "data": {
      "text/plain": [
       "0.82141248391248411"
      ]
     },
     "execution_count": 46,
     "metadata": {},
     "output_type": "execute_result"
    }
   ],
   "source": [
    "from sklearn.svm import LinearSVC\n",
    "svm_clf =  LinearSVC(C=1, loss=\"hinge\")\n",
    "svm_clf.fit(X_train, y_train)\n",
    "score = cross_val_score(svm_clf, X_train, y_train, cv=20, scoring=\"accuracy\")\n",
    "score.mean()"
   ]
  },
  {
   "cell_type": "code",
   "execution_count": 47,
   "metadata": {
    "_cell_guid": "e56e2b3c-2475-4ce8-99a8-f709f6c3c0b8",
    "_uuid": "0f1556c0860368508be981809f68697cdb287302"
   },
   "outputs": [
    {
     "data": {
      "text/plain": [
       "0.79083976833976843"
      ]
     },
     "execution_count": 47,
     "metadata": {},
     "output_type": "execute_result"
    }
   ],
   "source": [
    "from sklearn.naive_bayes import GaussianNB\n",
    "gnb_clf = GaussianNB()\n",
    "score = cross_val_score(gnb_clf, X_train, y_train, cv=20, scoring=\"accuracy\")\n",
    "score.mean()"
   ]
  },
  {
   "cell_type": "code",
   "execution_count": 48,
   "metadata": {
    "_cell_guid": "9a84e880-82da-46e5-b810-66f43c71828d",
    "_uuid": "2f64bb48e4b24aadf424290a266fbcf0807f621f"
   },
   "outputs": [
    {
     "data": {
      "text/plain": [
       "0.83133526383526402"
      ]
     },
     "execution_count": 48,
     "metadata": {},
     "output_type": "execute_result"
    }
   ],
   "source": [
    "from sklearn.linear_model import LogisticRegression\n",
    "log_clf = LogisticRegression()\n",
    "score = cross_val_score(log_clf, X_train, y_train, cv=20, scoring=\"accuracy\")\n",
    "score.mean()"
   ]
  },
  {
   "cell_type": "code",
   "execution_count": 50,
   "metadata": {
    "_cell_guid": "6c95088f-ffcd-4b5b-8779-097102aa6cd5",
    "_uuid": "3670a6fd005413d54b7281fd94b91513ac97d9dc"
   },
   "outputs": [
    {
     "data": {
      "text/plain": [
       "0.83843843843843846"
      ]
     },
     "execution_count": 50,
     "metadata": {},
     "output_type": "execute_result"
    }
   ],
   "source": [
    "from sklearn.ensemble import VotingClassifier\n",
    "voting_clf = VotingClassifier(\n",
    "            estimators=[(\"sgd_clf\", sgd_clf), (\"dtc_clf\", dtc_clf), (\"knn_clf\", knn_clf),\n",
    "                       (\"rf_clf\", rf_clf), (\"svm_clf\", svm_clf), \n",
    "                       (\"gnb_clf\", gnb_clf),(\"log_clf\",log_clf)],\n",
    "            voting='hard'\n",
    ")\n",
    "score = cross_val_score(voting_clf, X_train, y_train, cv=20, scoring=\"accuracy\")\n",
    "score.mean()"
   ]
  },
  {
   "cell_type": "code",
   "execution_count": 51,
   "metadata": {
    "_cell_guid": "540fc2a5-ba3e-4ae5-99ce-2822e58535f7",
    "_uuid": "71a64d61650a3e6b8caaec653ca9dbc23a52ffee",
    "collapsed": true
   },
   "outputs": [],
   "source": [
    "voting_clf.fit(X_train,y_train)\n",
    "final_predictions = voting_clf.predict(X_test)"
   ]
  },
  {
   "cell_type": "code",
   "execution_count": 52,
   "metadata": {
    "_cell_guid": "be0d98af-8a95-4edc-a712-c32074d2fc47",
    "_uuid": "113f75d872b1ff1d823114d73f84e11fde9fabb3"
   },
   "outputs": [
    {
     "data": {
      "text/plain": [
       "0.82122905027932958"
      ]
     },
     "execution_count": 52,
     "metadata": {},
     "output_type": "execute_result"
    }
   ],
   "source": [
    "from sklearn.metrics import accuracy_score\n",
    "accuracy_score(y_test, final_predictions)"
   ]
  },
  {
   "cell_type": "code",
   "execution_count": 53,
   "metadata": {
    "_cell_guid": "4b7e8ca9-fee4-4d96-9104-d60580a5ea1a",
    "_uuid": "7191de3eb9d4602f7b1a5926e43c4a3568779bee",
    "collapsed": true
   },
   "outputs": [],
   "source": [
    "from sklearn.model_selection import train_test_split\n",
    "X_train_final = train_prepare.drop(\"Survived\",axis=1)\n",
    "y_train_final =  train_prepare[\"Survived\"]\n",
    "voting_clf.fit(X_train_final,y_train_final)\n",
    "predict = voting_clf.predict(test_prepare)"
   ]
  },
  {
   "cell_type": "code",
   "execution_count": 54,
   "metadata": {
    "_cell_guid": "b4eb492c-1b65-4f7f-bdb0-a9a0f7a04b05",
    "_uuid": "b7fe6d2087882be21b3626447f363bc121abf73b",
    "collapsed": true
   },
   "outputs": [],
   "source": [
    "submission = pd.DataFrame({\n",
    "    \"PassengerId\": test[\"PassengerId\"],\n",
    "    \"Survived\": predict\n",
    "})\n",
    "submission.to_csv('submission.csv', index=False)"
   ]
  },
  {
   "cell_type": "code",
   "execution_count": null,
   "metadata": {
    "_cell_guid": "d28aa7dc-3d2f-4e40-8d26-7dca42c40a6e",
    "_uuid": "aeb259697dacdce24b8a5061c2d8f0f7c4133fef",
    "collapsed": true
   },
   "outputs": [],
   "source": []
  },
  {
   "cell_type": "code",
   "execution_count": null,
   "metadata": {
    "_cell_guid": "d8a6e6a6-999d-4b08-8711-0495a8969cde",
    "_uuid": "52cb211d091116f2a51a0e5f469def631f062da8",
    "collapsed": true
   },
   "outputs": [],
   "source": []
  },
  {
   "cell_type": "code",
   "execution_count": null,
   "metadata": {
    "_cell_guid": "1341b725-d85d-4367-bdfe-2ec956eef4bf",
    "_uuid": "e9e6d361b0244fdab91f1f900e670d7581348d38",
    "collapsed": true
   },
   "outputs": [],
   "source": []
  },
  {
   "cell_type": "code",
   "execution_count": null,
   "metadata": {
    "_cell_guid": "30449c16-94b8-43ad-b5b8-99ceab8efd34",
    "_uuid": "a55ca32f9f7ca968d592167b5091e96412caa0b6",
    "collapsed": true
   },
   "outputs": [],
   "source": []
  }
 ],
 "metadata": {
  "kernelspec": {
   "display_name": "Python 3",
   "language": "python",
   "name": "python3"
  },
  "language_info": {
   "codemirror_mode": {
    "name": "ipython",
    "version": 3
   },
   "file_extension": ".py",
   "mimetype": "text/x-python",
   "name": "python",
   "nbconvert_exporter": "python",
   "pygments_lexer": "ipython3",
   "version": "3.6.2"
  }
 },
 "nbformat": 4,
 "nbformat_minor": 1
}
